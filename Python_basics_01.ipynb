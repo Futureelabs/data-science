{
 "cells": [
  {
   "cell_type": "code",
   "execution_count": 7,
   "metadata": {},
   "outputs": [],
   "source": [
    "import keyword"
   ]
  },
  {
   "cell_type": "code",
   "execution_count": 8,
   "metadata": {},
   "outputs": [
    {
     "name": "stdout",
     "output_type": "stream",
     "text": [
      "['False', 'None', 'True', 'and', 'as', 'assert', 'async', 'await', 'break', 'class', 'continue', 'def', 'del', 'elif', 'else', 'except', 'finally', 'for', 'from', 'global', 'if', 'import', 'in', 'is', 'lambda', 'nonlocal', 'not', 'or', 'pass', 'raise', 'return', 'try', 'while', 'with', 'yield']\n"
     ]
    }
   ],
   "source": [
    "print(keyword.kwlist)"
   ]
  },
  {
   "cell_type": "code",
   "execution_count": 11,
   "metadata": {},
   "outputs": [
    {
     "name": "stdout",
     "output_type": "stream",
     "text": [
      "Hallo , World \n"
     ]
    }
   ],
   "source": [
    "print( \"Hallo , World \")"
   ]
  },
  {
   "cell_type": "code",
   "execution_count": 12,
   "metadata": {},
   "outputs": [
    {
     "name": "stdout",
     "output_type": "stream",
     "text": [
      "Hallo World\n"
     ]
    }
   ],
   "source": [
    "#Print Hello World in screen\n",
    "print(\"Hallo World\")"
   ]
  },
  {
   "cell_type": "code",
   "execution_count": 13,
   "metadata": {},
   "outputs": [
    {
     "name": "stdout",
     "output_type": "stream",
     "text": [
      "I practiced just now how to add multiline commnets in python\n"
     ]
    }
   ],
   "source": [
    "# This is a Multiline commnet\n",
    "#this is the Second line of the multiline comment\n",
    "#this is the third line of the multiline commnet\n",
    "\n",
    "print(\"I practiced just now how to add multiline commnets in python\")"
   ]
  },
  {
   "cell_type": "code",
   "execution_count": 14,
   "metadata": {},
   "outputs": [
    {
     "name": "stdout",
     "output_type": "stream",
     "text": [
      "I just used another method to include multiline commnets in python\n"
     ]
    }
   ],
   "source": [
    "\"\"\"Another way to\n",
    "write multiline commnets to \n",
    "your code in python\"\"\"\n",
    "\n",
    "print(\"I just used another method to include multiline commnets in python\")"
   ]
  },
  {
   "cell_type": "markdown",
   "metadata": {},
   "source": [
    "# Python indentation\n",
    "\n",
    "1. Python uses indentation rather than braces {} to define a block of code.\n",
    "2. A code block starts with an the first indented line and ends with the first unindented line.\n",
    "3. Generally four whitespaces are used for indentation and are preffered over tab.\n",
    "4. Indentation makes the code more readable\n"
   ]
  },
  {
   "cell_type": "code",
   "execution_count": 17,
   "metadata": {},
   "outputs": [
    {
     "name": "stdout",
     "output_type": "stream",
     "text": [
      "0\n",
      "0\n",
      "1\n",
      "2\n",
      "2\n",
      "4\n",
      "3\n",
      "6\n",
      "4\n",
      "8\n",
      "5\n",
      "10\n",
      "6\n",
      "12\n",
      "7\n",
      "14\n",
      "8\n",
      "16\n",
      "9\n",
      "18\n",
      "100\n"
     ]
    }
   ],
   "source": [
    "# example for use of indentation in python\n",
    "\n",
    "for i in range(10):\n",
    "    print(i)\n",
    "    print(i*2)\n",
    "\n",
    "print(100) #100 will be printed as a number not belonging to the range of numbers inside the for loop.\n",
    "\n",
    "# if the indenttion is not used correctly python will through a Indentation error."
   ]
  },
  {
   "cell_type": "code",
   "execution_count": 19,
   "metadata": {},
   "outputs": [
    {
     "name": "stdout",
     "output_type": "stream",
     "text": [
      "Machine Learning\n"
     ]
    }
   ],
   "source": [
    "# code block written with indentation to make the code more readble\n",
    "if True:\n",
    "    print(\"Machine Learning\")\n",
    "    c= \"AAIC\"\n"
   ]
  },
  {
   "cell_type": "code",
   "execution_count": 20,
   "metadata": {},
   "outputs": [
    {
     "name": "stdout",
     "output_type": "stream",
     "text": [
      "Machine Learning\n"
     ]
    }
   ],
   "source": [
    "#Same code can be written without indentation using delimiter a ( ; ) but it makes the code difficult to read\n",
    "\n",
    "if True:\n",
    "    print(\"Machine Learning\"); c = \"AAIC\""
   ]
  },
  {
   "cell_type": "markdown",
   "metadata": {},
   "source": [
    "# Python Statements\n",
    "\n",
    "- Statements are instructions that a python interpretor can execute.\n",
    "Examples: - "
   ]
  },
  {
   "cell_type": "code",
   "execution_count": 21,
   "metadata": {},
   "outputs": [],
   "source": [
    "# This is a statement to declare a variable\n",
    "\n",
    "a=10"
   ]
  },
  {
   "cell_type": "markdown",
   "metadata": {},
   "source": [
    "# Multi Line Statements \n",
    "- Use 'back slash' to write a multiline statement\n",
    "- Another way is to use paranthesis"
   ]
  },
  {
   "cell_type": "code",
   "execution_count": 22,
   "metadata": {},
   "outputs": [
    {
     "name": "stdout",
     "output_type": "stream",
     "text": [
      "32\n"
     ]
    }
   ],
   "source": [
    "a = 3 + 5 + \\\n",
    "    7 + 8 + \\\n",
    "    9\n",
    "\n",
    "print(a)"
   ]
  },
  {
   "cell_type": "code",
   "execution_count": 23,
   "metadata": {},
   "outputs": [
    {
     "name": "stdout",
     "output_type": "stream",
     "text": [
      "22\n"
     ]
    }
   ],
   "source": [
    "  a = ( 3 + 4 +\n",
    "       7 + 8)\n",
    "    \n",
    "print(a)"
   ]
  },
  {
   "cell_type": "markdown",
   "metadata": {},
   "source": [
    "# Variables\n",
    "\n",
    "- Variables are locations in the storage system to store data.\n",
    "- Naming method - same as used for identifiers\n",
    "- variables are not declared in python before using them. Also no need to declare the data type for the variable. \n",
    "\n",
    "# Difference between Variables and Identifiers\n",
    "\n",
    "- The fundamental difference between an identifier and variable is that an identifier is a “name given to entity” in a program whereas, a variable is a “name given to memory location”, that is used to hold value, which may get modified during program execution.\n",
    " - Ex1: name given to a variable ==> int car=5;\n",
    "- here,car is identifier,i.e name given to variable(storage location)\n",
    "- EX2: int age;\n",
    "- In this example, we create an integer variable with the name (\"identified by\") of \"age\".\n",
    "- So, think of an identifier as the label that names a variable."
   ]
  },
  {
   "cell_type": "code",
   "execution_count": 24,
   "metadata": {},
   "outputs": [],
   "source": [
    "a = 10"
   ]
  },
  {
   "cell_type": "markdown",
   "metadata": {},
   "source": [
    "# Variable assignment\n",
    " - use the = sign\n"
   ]
  },
  {
   "cell_type": "code",
   "execution_count": 25,
   "metadata": {},
   "outputs": [
    {
     "name": "stdout",
     "output_type": "stream",
     "text": [
      "10\n",
      "5.5\n",
      "ML\n"
     ]
    }
   ],
   "source": [
    "a = 10\n",
    "b = 5.5\n",
    "c = \"ML\"\n",
    "\n",
    "print(a)\n",
    "print(b)\n",
    "print(c)"
   ]
  },
  {
   "cell_type": "markdown",
   "metadata": {},
   "source": [
    "# Multiple assignment\n",
    "- use comma to seperate each assignment"
   ]
  },
  {
   "cell_type": "code",
   "execution_count": 28,
   "metadata": {},
   "outputs": [
    {
     "name": "stdout",
     "output_type": "stream",
     "text": [
      "10\n",
      "5.5\n",
      "ML\n"
     ]
    }
   ],
   "source": [
    "a, b, c = 10, 5.5, \"ML\"\n",
    "\n",
    "print(a)\n",
    "print(b)\n",
    "print(c)\n"
   ]
  },
  {
   "cell_type": "markdown",
   "metadata": {},
   "source": [
    "# Multiple assignments"
   ]
  },
  {
   "cell_type": "code",
   "execution_count": 29,
   "metadata": {},
   "outputs": [
    {
     "name": "stdout",
     "output_type": "stream",
     "text": [
      "10\n",
      "10\n",
      "10\n"
     ]
    }
   ],
   "source": [
    "a = b = c = 10 #assign same values to multiple variables at once\n",
    "\n",
    "print(a)\n",
    "print(b)\n",
    "print(c)"
   ]
  },
  {
   "cell_type": "markdown",
   "metadata": {},
   "source": [
    "# Storage Location\n"
   ]
  },
  {
   "cell_type": "code",
   "execution_count": 1,
   "metadata": {},
   "outputs": [
    {
     "name": "stdout",
     "output_type": "stream",
     "text": [
      "140730824630736\n"
     ]
    }
   ],
   "source": [
    "x = 3\n",
    "\n",
    "print(id(x))             # print the memory location address for variable x"
   ]
  },
  {
   "cell_type": "code",
   "execution_count": 2,
   "metadata": {},
   "outputs": [
    {
     "name": "stdout",
     "output_type": "stream",
     "text": [
      "140730824630736\n"
     ]
    }
   ],
   "source": [
    "y = 3\n",
    "\n",
    "print(id(y))"
   ]
  },
  {
   "cell_type": "markdown",
   "metadata": {},
   "source": [
    "- observation - x and y points to the same memory location\n",
    "- if a,b lies between (-5, 256) a and b will point to same memory location\n",
    "- if a,b lies outside (-5, 256) a and b will point to different memory location\n",
    "- When it comes to the strings, when a same string is assigned to two different variables, then if there is a whitespace present in the string value, then those two variables point to two different locations, whereas if there are no whitespaces, these two variables will point to the same location.\n"
   ]
  },
  {
   "cell_type": "code",
   "execution_count": 3,
   "metadata": {},
   "outputs": [
    {
     "data": {
      "text/plain": [
       "True"
      ]
     },
     "execution_count": 3,
     "metadata": {},
     "output_type": "execute_result"
    }
   ],
   "source": [
    "a = 235\n",
    "b = 235\n",
    "\n",
    "id(a) == id(b) # if a,b lies between (-5, 256) a and b will point to same memory location"
   ]
  },
  {
   "cell_type": "code",
   "execution_count": 4,
   "metadata": {},
   "outputs": [
    {
     "data": {
      "text/plain": [
       "False"
      ]
     },
     "execution_count": 4,
     "metadata": {},
     "output_type": "execute_result"
    }
   ],
   "source": [
    "a = 325\n",
    "b=325\n",
    "\n",
    "id(a) == id(b) # if a,b lies outside (-5, 256) a and b will point to different memory location"
   ]
  },
  {
   "cell_type": "code",
   "execution_count": 5,
   "metadata": {},
   "outputs": [
    {
     "data": {
      "text/plain": [
       "False"
      ]
     },
     "execution_count": 5,
     "metadata": {},
     "output_type": "execute_result"
    }
   ],
   "source": [
    "a = \"Welcome to ML course\"\n",
    "b = \"Welcome to ML course\"\n",
    "\n",
    "id(a) == id(b) # String with whitspaces, a and b pointing to different memory locations"
   ]
  },
  {
   "cell_type": "code",
   "execution_count": 8,
   "metadata": {},
   "outputs": [
    {
     "data": {
      "text/plain": [
       "True"
      ]
     },
     "execution_count": 8,
     "metadata": {},
     "output_type": "execute_result"
    }
   ],
   "source": [
    "a = \"WelcometoMLcourse\"\n",
    "b = \"WelcometoMLcourse\"\n",
    "\n",
    "id(a) == id(b) # String without whitespaces, a and b pointing to same memory location"
   ]
  },
  {
   "cell_type": "code",
   "execution_count": null,
   "metadata": {},
   "outputs": [],
   "source": []
  },
  {
   "cell_type": "code",
   "execution_count": 7,
   "metadata": {},
   "outputs": [
    {
     "data": {
      "text/plain": [
       "True"
      ]
     },
     "execution_count": 7,
     "metadata": {},
     "output_type": "execute_result"
    }
   ],
   "source": [
    "a = \"Welcome\"\n",
    "b = \"Welcome\"\n",
    "\n",
    "id(a) == id(b)"
   ]
  },
  {
   "cell_type": "markdown",
   "metadata": {},
   "source": [
    "# Data Types\n",
    "\n",
    "- Every value in Python has a data type.\n",
    "- Since everthing in Python is an Object, data types are actually classes and variables are instances(Object) of these classes\n",
    "\n",
    "# Numbers \n",
    "\n",
    "- Integers, Decimals and complex numbers falls under this category.\n",
    "- They are defined as int, float and complex classes in Python.\n",
    "- Use the Python type() function to know the class type of a variable \n",
    "- Use Python isinstance() function yo to check if a object belongs to a particular class\n"
   ]
  },
  {
   "cell_type": "code",
   "execution_count": 9,
   "metadata": {},
   "outputs": [
    {
     "name": "stdout",
     "output_type": "stream",
     "text": [
      "10 is of data type  <class 'int'>\n"
     ]
    }
   ],
   "source": [
    "a = 10                        #Python implicitly assigns the data type as int based on the value assigned to variable a\n",
    "\n",
    "print(a, \"is of data type \" , type(a))"
   ]
  },
  {
   "cell_type": "code",
   "execution_count": 10,
   "metadata": {},
   "outputs": [
    {
     "name": "stdout",
     "output_type": "stream",
     "text": [
      "2.5 is of data type  <class 'float'>\n"
     ]
    }
   ],
   "source": [
    "a = 2.5                       #Python implicitly changes the data type as float\n",
    "\n",
    "print(a, \"is of data type \" , type(a))"
   ]
  },
  {
   "cell_type": "code",
   "execution_count": 12,
   "metadata": {},
   "outputs": [
    {
     "name": "stdout",
     "output_type": "stream",
     "text": [
      "(1+2j) is a complex number ?\n",
      "(1+2j) is of data type  <class 'complex'>\n",
      "True\n"
     ]
    }
   ],
   "source": [
    "a = 1 + 2j                      #Python implicitly changes the data type as complex\n",
    "\n",
    "print(a, \"is a complex number ?\" )\n",
    "print(a, \"is of data type \" , type(a))\n",
    "print ( isinstance(a, complex))"
   ]
  },
  {
   "cell_type": "markdown",
   "metadata": {},
   "source": [
    "# Boolean\n",
    "\n",
    "- Boolean represents the truth values of True and False\n"
   ]
  },
  {
   "cell_type": "code",
   "execution_count": 14,
   "metadata": {},
   "outputs": [
    {
     "name": "stdout",
     "output_type": "stream",
     "text": [
      "<class 'bool'>\n"
     ]
    }
   ],
   "source": [
    "a = True            # a is a variable of type Boolean\n",
    "\n",
    "print(type(a)) "
   ]
  },
  {
   "cell_type": "markdown",
   "metadata": {},
   "source": [
    "# Strings\n",
    "\n",
    "- String is a sequence of Unicode characters / a series of characters - letters, numbers and special characters\n",
    "- Strings can be assigned in Python using single or double qoutes\n",
    "- Multi line strings can be assigned using triple quotes \n",
    "- Strings can be indexed - also called as 'can be subscripted'\n",
    "- Similar to C, the first character of a string has the index 0.\n"
   ]
  },
  {
   "cell_type": "code",
   "execution_count": 15,
   "metadata": {},
   "outputs": [
    {
     "name": "stdout",
     "output_type": "stream",
     "text": [
      "I am a string.\n",
      "<class 'str'>\n"
     ]
    }
   ],
   "source": [
    "S = \"I am a string.\"           # Single line string using double quotes. \n",
    "\n",
    "print(S)\n",
    "\n",
    "print(type(S))"
   ]
  },
  {
   "cell_type": "code",
   "execution_count": 15,
   "metadata": {},
   "outputs": [
    {
     "name": "stdout",
     "output_type": "stream",
     "text": [
      "I am a string.\n",
      "<class 'str'>\n"
     ]
    }
   ],
   "source": [
    "S = 'I am a string.'        # Single line string using single quotes. \n",
    "\n",
    "print(S)\n",
    "\n",
    "print(type(S))"
   ]
  },
  {
   "cell_type": "code",
   "execution_count": 16,
   "metadata": {},
   "outputs": [
    {
     "name": "stdout",
     "output_type": "stream",
     "text": [
      "I am a multiline string.\n",
      "    I can go on to write over multiple lines.\n",
      "    I need more storage space then a single line string.\n",
      "<class 'str'>\n"
     ]
    }
   ],
   "source": [
    "S = '''I am a multiline string.\n",
    "    I can go on to write over multiple lines.\n",
    "    I need more storage space then a single line string.'''        # Multi line string using triple single quotes. \n",
    "\n",
    "print(S)\n",
    "\n",
    "print(type(S))"
   ]
  },
  {
   "cell_type": "code",
   "execution_count": 17,
   "metadata": {},
   "outputs": [
    {
     "name": "stdout",
     "output_type": "stream",
     "text": [
      "I am a multiline string.\n",
      "    I can go on to write over multiple lines.\n",
      "    I need more storage space then a single line string.\n",
      "<class 'str'>\n"
     ]
    }
   ],
   "source": [
    "S = \"\"\"I am a multiline string.\n",
    "    I can go on to write over multiple lines.\n",
    "    I need more storage space then a single line string.\"\"\"       # Multi line string using triple double quotes. \n",
    "\n",
    "print(S)\n",
    "\n",
    "print(type(S))"
   ]
  },
  {
   "cell_type": "code",
   "execution_count": 23,
   "metadata": {},
   "outputs": [
    {
     "name": "stdout",
     "output_type": "stream",
     "text": [
      "I\n",
      " \n",
      "a\n",
      "m\n",
      " \n",
      "a\n",
      " \n",
      "s\n",
      "t\n",
      "r\n",
      "i\n",
      "n\n",
      "g\n",
      ".\n",
      ".\n",
      "g\n",
      "n\n"
     ]
    }
   ],
   "source": [
    "S = 'I am a string.'        # Single line string using single quotes. \n",
    "\n",
    "print(S[0])                 # print the first character in the string which is indexed as 0 --> I\n",
    "print(S[1])                 # print the first character in the string which is indexed as 1 --> whitespace\n",
    "print(S[2])                 # print the first character in the string which is indexed as 2 --> a and so on..\n",
    "print(S[3])\n",
    "print(S[4])\n",
    "print(S[5])\n",
    "print(S[6])\n",
    "print(S[7])\n",
    "print(S[8])\n",
    "print(S[9])\n",
    "print(S[10])\n",
    "print(S[11])\n",
    "print(S[12])\n",
    "print(S[13])\n",
    "\n",
    "\n",
    "print(S[-1])              # print the last character of the string S\n",
    "print(S[-2])              # print the second last character of the string S\n",
    "print(S[-3])              # print the third last character of the string S and so on.."
   ]
  },
  {
   "cell_type": "code",
   "execution_count": 26,
   "metadata": {},
   "outputs": [
    {
     "name": "stdout",
     "output_type": "stream",
     "text": [
      ".\n",
      "e\n"
     ]
    }
   ],
   "source": [
    "S = \" Hi , Welcome to my house.\"\n",
    "\n",
    "print(S[len(S)-1])\n",
    "print(S[len(S)-2])"
   ]
  },
  {
   "cell_type": "code",
   "execution_count": 33,
   "metadata": {},
   "outputs": [
    {
     "name": "stdout",
     "output_type": "stream",
     "text": [
      " Welcome to my house.\n",
      " to my house.\n",
      "to my house.\n",
      " my house.\n",
      " Welcome\n"
     ]
    }
   ],
   "source": [
    "S = \" Hi , Welcome to my house.\"\n",
    "\n",
    "# Slicing \n",
    "\n",
    "print(S[5:])\n",
    "print(S[13:])\n",
    "print(S[14:])\n",
    "print(S[16:])\n",
    "\n",
    "print(S[5:13])     # print all characters starting from the index 5 till indxed 9"
   ]
  },
  {
   "cell_type": "markdown",
   "metadata": {},
   "source": [
    "# Python list\n",
    "\n",
    "- List is an ordered sequence of items\n",
    "- One of the most used data types in Python\n",
    "- very flexible\n",
    "- Each of the items in the list need not be of same data type\n",
    "- To declare a list items seperated by commas inside [] is used.\n",
    "- Lists are mutable, meaning items inside a list can be altered or modified\n"
   ]
  },
  {
   "cell_type": "code",
   "execution_count": 36,
   "metadata": {},
   "outputs": [
    {
     "name": "stdout",
     "output_type": "stream",
     "text": [
      "['Rahul', 'Sarkale', 24, 'Pune', 'Engineer']\n",
      "Rahul\n",
      "Sarkale\n",
      "24\n",
      "Pune\n",
      "Engineer\n",
      "['Rahul', 'Sarkale', 28, 'Pune', 'Engineer']\n"
     ]
    }
   ],
   "source": [
    "List_01 = [\"Rahul\", \"Sarkale\", 24, \"Pune\", \"Engineer\" ]\n",
    "\n",
    "print(List_01)\n",
    "\n",
    "print(List_01[0])\n",
    "print(List_01[1])\n",
    "print(List_01[2])\n",
    "print(List_01[3])\n",
    "print(List_01[-1])\n",
    "\n",
    "\n",
    "List_01[2] = 28                # Value of item number 3 (index 2) changed from 24 to 28.\n",
    "\n",
    "print(List_01)"
   ]
  },
  {
   "cell_type": "markdown",
   "metadata": {},
   "source": [
    "# Python Tuples\n",
    "\n",
    "- a Tuple is also an ordered sequence of items.\n",
    "- Only difference between a List and a Tuple is - Lists are mutuable while Tuples are immutable\n",
    "- If you try to alter a item inside a Tuple, you will get error : Tuple object does not support item assignment.\n",
    "- To declare a Tuple use items seperated by commmas inside the () brackets."
   ]
  },
  {
   "cell_type": "code",
   "execution_count": null,
   "metadata": {},
   "outputs": [],
   "source": []
  },
  {
   "cell_type": "code",
   "execution_count": 39,
   "metadata": {},
   "outputs": [
    {
     "name": "stdout",
     "output_type": "stream",
     "text": [
      "('Rahul', 'Sarkale', 24, 'Pune', 'Engineer')\n",
      "Rahul\n",
      "Sarkale\n",
      "24\n",
      "Pune\n",
      "Engineer\n"
     ]
    },
    {
     "ename": "TypeError",
     "evalue": "'tuple' object does not support item assignment",
     "output_type": "error",
     "traceback": [
      "\u001b[1;31m---------------------------------------------------------------------------\u001b[0m",
      "\u001b[1;31mTypeError\u001b[0m                                 Traceback (most recent call last)",
      "\u001b[1;32m<ipython-input-39-c714d7ae4f11>\u001b[0m in \u001b[0;36m<module>\u001b[1;34m\u001b[0m\n\u001b[0;32m     10\u001b[0m \u001b[1;33m\u001b[0m\u001b[0m\n\u001b[0;32m     11\u001b[0m \u001b[1;33m\u001b[0m\u001b[0m\n\u001b[1;32m---> 12\u001b[1;33m \u001b[0mTpl_01\u001b[0m\u001b[1;33m[\u001b[0m\u001b[1;36m2\u001b[0m\u001b[1;33m]\u001b[0m \u001b[1;33m=\u001b[0m \u001b[1;36m28\u001b[0m                \u001b[1;31m# Will through an error if try to alter an item inside a Tuple\u001b[0m\u001b[1;33m\u001b[0m\u001b[1;33m\u001b[0m\u001b[0m\n\u001b[0m\u001b[0;32m     13\u001b[0m \u001b[1;33m\u001b[0m\u001b[0m\n\u001b[0;32m     14\u001b[0m \u001b[0mprint\u001b[0m\u001b[1;33m(\u001b[0m\u001b[0mTpl_01\u001b[0m\u001b[1;33m)\u001b[0m\u001b[1;33m\u001b[0m\u001b[1;33m\u001b[0m\u001b[0m\n",
      "\u001b[1;31mTypeError\u001b[0m: 'tuple' object does not support item assignment"
     ]
    }
   ],
   "source": [
    "Tpl_01 = (\"Rahul\", \"Sarkale\", 24, \"Pune\", \"Engineer\" )\n",
    "\n",
    "print(Tpl_01)\n",
    "\n",
    "print(Tpl_01[0])\n",
    "print(Tpl_01[1])\n",
    "print(Tpl_01[2])\n",
    "print(Tpl_01[3])\n",
    "print(Tpl_01[-1])\n",
    "\n",
    "\n",
    "Tpl_01[2] = 28                # Will through an error if try to alter an item inside a Tuple\n",
    "\n",
    "print(Tpl_01)"
   ]
  },
  {
   "cell_type": "markdown",
   "metadata": {},
   "source": [
    "# Python Sets\n",
    "\n",
    "- Sets are an unordered collection of unique items\n",
    "- Defined by items seperated by commas inside {} brackets\n",
    "- Items inside a set not ordered.\n",
    "- We can perform set operations like union, intersection etc. on two sets.\n",
    "- Sets have unique items meaning it will not save duplicate items as two different items.\n",
    "- We can not print individual items of a set as it is not an odereded collection. This means items inside a Set are not indexed.\n"
   ]
  },
  {
   "cell_type": "code",
   "execution_count": 40,
   "metadata": {},
   "outputs": [
    {
     "name": "stdout",
     "output_type": "stream",
     "text": [
      "{40, 10, 50, 20, 30}\n"
     ]
    }
   ],
   "source": [
    "S = {10, 20, 30, 40, 50}\n",
    "\n",
    "print(S)"
   ]
  },
  {
   "cell_type": "code",
   "execution_count": 41,
   "metadata": {},
   "outputs": [
    {
     "name": "stdout",
     "output_type": "stream",
     "text": [
      "{40, 10, 20, 30}\n"
     ]
    }
   ],
   "source": [
    "S = {10, 20, 20, 30, 30, 30, 40, 40, 40, 40}\n",
    "\n",
    "print(S)"
   ]
  },
  {
   "cell_type": "code",
   "execution_count": 43,
   "metadata": {},
   "outputs": [
    {
     "ename": "TypeError",
     "evalue": "'set' object is not subscriptable",
     "output_type": "error",
     "traceback": [
      "\u001b[1;31m---------------------------------------------------------------------------\u001b[0m",
      "\u001b[1;31mTypeError\u001b[0m                                 Traceback (most recent call last)",
      "\u001b[1;32m<ipython-input-43-2e4a7dd1db85>\u001b[0m in \u001b[0;36m<module>\u001b[1;34m\u001b[0m\n\u001b[0;32m      1\u001b[0m \u001b[0mS\u001b[0m \u001b[1;33m=\u001b[0m \u001b[1;33m{\u001b[0m\u001b[1;36m10\u001b[0m\u001b[1;33m,\u001b[0m\u001b[1;36m20\u001b[0m\u001b[1;33m}\u001b[0m\u001b[1;33m\u001b[0m\u001b[1;33m\u001b[0m\u001b[0m\n\u001b[0;32m      2\u001b[0m \u001b[1;33m\u001b[0m\u001b[0m\n\u001b[1;32m----> 3\u001b[1;33m \u001b[0mprint\u001b[0m\u001b[1;33m(\u001b[0m\u001b[0mS\u001b[0m\u001b[1;33m[\u001b[0m\u001b[1;36m0\u001b[0m\u001b[1;33m]\u001b[0m\u001b[1;33m)\u001b[0m          \u001b[1;31m# will thorugh error. Individual Items inside set can not be printed.\u001b[0m\u001b[1;33m\u001b[0m\u001b[1;33m\u001b[0m\u001b[0m\n\u001b[0m",
      "\u001b[1;31mTypeError\u001b[0m: 'set' object is not subscriptable"
     ]
    }
   ],
   "source": [
    "S = {10,20}\n",
    "\n",
    "print(S[0])          # will thorugh error. Individual Items inside set can not be printed."
   ]
  },
  {
   "cell_type": "markdown",
   "metadata": {},
   "source": [
    "# Python Dictionaries\n",
    "\n",
    "- Dictionaries are unodered collection of Key:Value pairs\n",
    "- Dictionaries are defined inside {} with each item in the form of a Key: Value pair. Keys and Values can be of any type.\n",
    "- "
   ]
  },
  {
   "cell_type": "code",
   "execution_count": 46,
   "metadata": {},
   "outputs": [
    {
     "name": "stdout",
     "output_type": "stream",
     "text": [
      "a\n",
      "Apple\n",
      "bat\n"
     ]
    }
   ],
   "source": [
    "a = {'a' : \"Apple\" , 'b' : \"bat\"}\n",
    "\n",
    "print('a')\n",
    "\n",
    "print(a['a'])       # key will be used to access the vlue of the Key: Value Pair\n",
    "\n",
    "print(a['b'])"
   ]
  },
  {
   "cell_type": "markdown",
   "metadata": {},
   "source": [
    "# Conversion between data types\n",
    "\n",
    "- we can use the Python functions like int(), float(), str() etc, to convert one data type to another data type for a variable"
   ]
  },
  {
   "cell_type": "code",
   "execution_count": 49,
   "metadata": {},
   "outputs": [
    {
     "data": {
      "text/plain": [
       "10.0"
      ]
     },
     "execution_count": 49,
     "metadata": {},
     "output_type": "execute_result"
    }
   ],
   "source": [
    "float(10)          # function float() will change the data type for 10 a from int to float\n",
    "\n"
   ]
  },
  {
   "cell_type": "code",
   "execution_count": 50,
   "metadata": {},
   "outputs": [
    {
     "data": {
      "text/plain": [
       "'20'"
      ]
     },
     "execution_count": 50,
     "metadata": {},
     "output_type": "execute_result"
    }
   ],
   "source": [
    "str(20)"
   ]
  },
  {
   "cell_type": "markdown",
   "metadata": {},
   "source": [
    "- Conversion to and from strings must contain compatible values. "
   ]
  },
  {
   "cell_type": "code",
   "execution_count": 51,
   "metadata": {},
   "outputs": [
    {
     "data": {
      "text/plain": [
       "10"
      ]
     },
     "execution_count": 51,
     "metadata": {},
     "output_type": "execute_result"
    }
   ],
   "source": [
    "int('10')"
   ]
  },
  {
   "cell_type": "code",
   "execution_count": 52,
   "metadata": {},
   "outputs": [
    {
     "ename": "ValueError",
     "evalue": "invalid literal for int() with base 10: '10p'",
     "output_type": "error",
     "traceback": [
      "\u001b[1;31m---------------------------------------------------------------------------\u001b[0m",
      "\u001b[1;31mValueError\u001b[0m                                Traceback (most recent call last)",
      "\u001b[1;32m<ipython-input-52-ec78bb8f8393>\u001b[0m in \u001b[0;36m<module>\u001b[1;34m\u001b[0m\n\u001b[1;32m----> 1\u001b[1;33m \u001b[0mint\u001b[0m\u001b[1;33m(\u001b[0m\u001b[1;34m'10p'\u001b[0m\u001b[1;33m)\u001b[0m                \u001b[1;31m# will through an error\u001b[0m\u001b[1;33m\u001b[0m\u001b[1;33m\u001b[0m\u001b[0m\n\u001b[0m",
      "\u001b[1;31mValueError\u001b[0m: invalid literal for int() with base 10: '10p'"
     ]
    }
   ],
   "source": [
    "int('10p')                # will through an error"
   ]
  },
  {
   "cell_type": "markdown",
   "metadata": {},
   "source": [
    "- example use case for using data types "
   ]
  },
  {
   "cell_type": "code",
   "execution_count": 56,
   "metadata": {},
   "outputs": [
    {
     "name": "stdout",
     "output_type": "stream",
     "text": [
      "Congratulations Sathish for completing 100 lines of code today.\n"
     ]
    }
   ],
   "source": [
    "user = \"Sathish\"\n",
    "lines = 100\n",
    "\n",
    "print(\"Congratulations \" + user + \" for completing \" + str(lines) + \" lines of code today.\")  \n",
    "\n",
    "#strings can be combined only with strings. If you remove the str() function in above code, it will give an error."
   ]
  },
  {
   "cell_type": "markdown",
   "metadata": {},
   "source": [
    "## We can convert one sequence type to another\n",
    "\n",
    "- e.g. from a list can be converted to a set and visa versa."
   ]
  },
  {
   "cell_type": "code",
   "execution_count": 57,
   "metadata": {},
   "outputs": [
    {
     "name": "stdout",
     "output_type": "stream",
     "text": [
      "<class 'list'>\n",
      "<class 'set'>\n"
     ]
    }
   ],
   "source": [
    "a = [1, 2, 3]\n",
    "\n",
    "print(type(a))                     # a is of type List\n",
    "\n",
    "s = set(a)                    # a converted into a swt and saved as s\n",
    "\n",
    "print(type(s))               # type of s is now set\n",
    "\n"
   ]
  },
  {
   "cell_type": "code",
   "execution_count": 58,
   "metadata": {},
   "outputs": [
    {
     "data": {
      "text/plain": [
       "['H', 'e', 'l', 'l', 'o']"
      ]
     },
     "execution_count": 58,
     "metadata": {},
     "output_type": "execute_result"
    }
   ],
   "source": [
    "list(\"Hello\")              # converts the string \"Hello\" into a list\n",
    "\n"
   ]
  },
  {
   "cell_type": "code",
   "execution_count": null,
   "metadata": {},
   "outputs": [],
   "source": []
  }
 ],
 "metadata": {
  "kernelspec": {
   "display_name": "Python 3",
   "language": "python",
   "name": "python3"
  },
  "language_info": {
   "codemirror_mode": {
    "name": "ipython",
    "version": 3
   },
   "file_extension": ".py",
   "mimetype": "text/x-python",
   "name": "python",
   "nbconvert_exporter": "python",
   "pygments_lexer": "ipython3",
   "version": "3.7.6"
  }
 },
 "nbformat": 4,
 "nbformat_minor": 4
}
