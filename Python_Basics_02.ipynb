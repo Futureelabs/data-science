{
 "cells": [
  {
   "cell_type": "markdown",
   "metadata": {},
   "source": [
    "# Python Standard input and output\n",
    "\n",
    "- print() is used as the standard output command in Python "
   ]
  },
  {
   "cell_type": "code",
   "execution_count": 1,
   "metadata": {},
   "outputs": [
    {
     "name": "stdout",
     "output_type": "stream",
     "text": [
      "The value of variable a is  10\n",
      "The value of variable a is 10\n"
     ]
    }
   ],
   "source": [
    "a = 10\n",
    "\n",
    "print(\"The value of variable a is \" , a)\n",
    "\n",
    "print(\"The value of variable a is \" + str(a))"
   ]
  },
  {
   "cell_type": "markdown",
   "metadata": {},
   "source": [
    "# Output formatting in Python\n",
    "\n",
    "- use format() function"
   ]
  },
  {
   "cell_type": "code",
   "execution_count": 2,
   "metadata": {},
   "outputs": [
    {
     "name": "stdout",
     "output_type": "stream",
     "text": [
      "The value of a is 10 and the value of b is 20 \n"
     ]
    }
   ],
   "source": [
    "a = 10\n",
    "b = 20\n",
    "\n",
    "print( \"The value of a is {} and the value of b is {} \".format(a,b))\n",
    "    \n",
    "    "
   ]
  },
  {
   "cell_type": "code",
   "execution_count": 4,
   "metadata": {},
   "outputs": [
    {
     "name": "stdout",
     "output_type": "stream",
     "text": [
      "The value of a is 20 and the value of b is 10\n"
     ]
    }
   ],
   "source": [
    "print( \"The value of a is {1} and the value of b is {0}\" .format(a,b))    # Specify position order for variable "
   ]
  },
  {
   "cell_type": "code",
   "execution_count": 5,
   "metadata": {},
   "outputs": [
    {
     "name": "stdout",
     "output_type": "stream",
     "text": [
      "Hello Sathish, Welcome to the AI course\n"
     ]
    }
   ],
   "source": [
    "# we can use keyword arguments to format the strings\n",
    "\n",
    "print(\"Hello {name}, {greeting}\".format(name= \"Sathish\" , greeting = \"Welcome to the AI course\"))"
   ]
  },
  {
   "cell_type": "code",
   "execution_count": 7,
   "metadata": {},
   "outputs": [
    {
     "name": "stdout",
     "output_type": "stream",
     "text": [
      "This is the story of Bill Gates, and Steve Jobs\n"
     ]
    }
   ],
   "source": [
    "# we can combine the positional arguments with key arguments\n",
    "\n",
    "print(\"This is the story of {0} {1}, and {other}\".format(\"Bill\",\"Gates\", other = \"Steve Jobs\"))"
   ]
  },
  {
   "cell_type": "markdown",
   "metadata": {},
   "source": [
    "# Python Input\n",
    "\n",
    "- Use input() function to get input from users"
   ]
  },
  {
   "cell_type": "code",
   "execution_count": 8,
   "metadata": {},
   "outputs": [
    {
     "name": "stdout",
     "output_type": "stream",
     "text": [
      "Enter a number : 23\n",
      "23\n"
     ]
    }
   ],
   "source": [
    "num = input(\"Enter a number : \")\n",
    "\n",
    "print(num)"
   ]
  },
  {
   "cell_type": "code",
   "execution_count": 9,
   "metadata": {},
   "outputs": [
    {
     "name": "stdout",
     "output_type": "stream",
     "text": [
      "Please enter your First Name :Parveen\n",
      "Please enter your Last Name :Hooda\n",
      "Welcome Mr. Parveen Hooda \n",
      "Thanks for joing us!\n"
     ]
    }
   ],
   "source": [
    "First_Name = input(\"Please enter your First Name :\")\n",
    "\n",
    "Last_Name = input(\"Please enter your Last Name :\")\n",
    "\n",
    "print(\"Welcome Mr. {first_name} {last_name} \".format(first_name = First_Name , last_name = Last_Name))\n",
    "print(\"Thanks for joing us!\")"
   ]
  },
  {
   "cell_type": "markdown",
   "metadata": {},
   "source": [
    "# Operators\n",
    "\n",
    "- Operators are special symbols to carry out arithmatic or logical computations.\n",
    "- The value that is being operated upon is called the Operand.\n",
    "\n",
    "\n",
    "# Operator types\n",
    "\n",
    "- Airthmetic operators\n",
    "- comparision ( Relational ) operators\n",
    "- Logical ( Boolean ) operators\n",
    "- Bitwise Operators\n",
    "- Assignment operators\n",
    "- Spetial Operators\n"
   ]
  },
  {
   "cell_type": "markdown",
   "metadata": {},
   "source": [
    "# Airthmetic Operators\n",
    "\n",
    "- +, - , * ,  / ,% ,  //, ** are arithmetic operators\n"
   ]
  },
  {
   "cell_type": "code",
   "execution_count": 15,
   "metadata": {},
   "outputs": [
    {
     "name": "stdout",
     "output_type": "stream",
     "text": [
      "30\n",
      "-10\n",
      "10\n",
      "200\n",
      "0.5\n",
      "2.0\n",
      "10\n",
      "0\n",
      "0\n",
      "10000\n",
      "10240000000000\n"
     ]
    }
   ],
   "source": [
    "# Examples \n",
    "\n",
    "x , y = 10 , 20\n",
    "\n",
    "# addition ( + )\n",
    "\n",
    "print(x+y)\n",
    "\n",
    "# Substraction ( - )\n",
    "\n",
    "print(x-y)\n",
    "print(y-x)\n",
    "\n",
    "# Multiplication ( * )\n",
    "\n",
    "print(x*y)\n",
    "\n",
    "# Division ( / )\n",
    "\n",
    "print(x/y)\n",
    "print(y/x)\n",
    "\n",
    "# Modulo division ( % )\n",
    "\n",
    "print(x%y)\n",
    "print(y%x)\n",
    "\n",
    "# Floor division ( // )\n",
    "\n",
    "print(x//y)\n",
    "\n",
    "# Exponential (**)\n",
    "\n",
    "print(10**4)\n",
    "print(y**x)"
   ]
  },
  {
   "cell_type": "markdown",
   "metadata": {},
   "source": [
    "# Comparision ( Relational) Operators\n",
    "\n",
    "- Comparision operators are used to compare values. It either returns True or False based on the result of the condition for comparision\n",
    "\n",
    "-    < ,> , == , != , >= , <= are comparision operators"
   ]
  },
  {
   "cell_type": "code",
   "execution_count": 16,
   "metadata": {},
   "outputs": [
    {
     "name": "stdout",
     "output_type": "stream",
     "text": [
      "True\n",
      "False\n",
      "False\n",
      "True\n",
      "True\n",
      "False\n"
     ]
    }
   ],
   "source": [
    "# Examples\n",
    "\n",
    "x, y = 10, 20\n",
    "\n",
    "print(x<y)  # check if x is less the y and print the result as True or False \n",
    "\n",
    "print(x>y)  # check if x is greater the y and print the result as True or False \n",
    "\n",
    "print(x==y)  # check if x is equal to y and print the result as True or False \n",
    "\n",
    "print(x!=y)  # check if x is not equal to y and print the result as True or False \n",
    "\n",
    "print(x<=y)  # check if x is less than or equal to y and print the result as True or False \n",
    "\n",
    "print(x>=y)  # check if x is greater than or equal to y and print the result as True or False \n"
   ]
  },
  {
   "cell_type": "markdown",
   "metadata": {},
   "source": [
    "# Logical operators \n",
    "\n",
    "- Logical operators are <b>and</b> , <b>or</b> and <b>not</b> operators."
   ]
  },
  {
   "cell_type": "code",
   "execution_count": 17,
   "metadata": {},
   "outputs": [
    {
     "name": "stdout",
     "output_type": "stream",
     "text": [
      "False\n",
      "True\n",
      "True\n",
      "False\n"
     ]
    }
   ],
   "source": [
    "# Examples\n",
    "\n",
    "x , y = True , False\n",
    "\n",
    "print(x and y)\n",
    "\n",
    "print(x or y)\n",
    "\n",
    "print(not y)\n",
    "\n",
    "print(not x)"
   ]
  },
  {
   "cell_type": "markdown",
   "metadata": {},
   "source": [
    "# Bitwise operators\n",
    "\n",
    "- Bitwise operators act on the operands as if they were string of binary digits. It operates bit by bit. \n",
    "\n",
    "- & , | ,! , ~ , ^ , >> , << are the bitwise operators"
   ]
  },
  {
   "cell_type": "code",
   "execution_count": 22,
   "metadata": {},
   "outputs": [
    {
     "name": "stdout",
     "output_type": "stream",
     "text": [
      "0\n",
      "14\n",
      "-5\n",
      "14\n"
     ]
    }
   ],
   "source": [
    "# examples\n",
    "\n",
    "x,y = 10,4\n",
    "\n",
    "print(x&y)\n",
    "\n",
    "print(x|y)\n",
    "\n",
    "print(~y)\n",
    "\n",
    "print(x^y)\n"
   ]
  },
  {
   "cell_type": "markdown",
   "metadata": {},
   "source": [
    "# Assignment Operators\n",
    "\n",
    "- used to assign values to variables\n",
    "\n",
    "- = , += , -=, *= , /= , %= , //= , **= , &= , |= , ^= , >>= , <<=  are assignment operators"
   ]
  },
  {
   "cell_type": "code",
   "execution_count": 26,
   "metadata": {},
   "outputs": [
    {
     "name": "stdout",
     "output_type": "stream",
     "text": [
      "15\n",
      "7\n",
      "3.5\n",
      "14.0\n"
     ]
    }
   ],
   "source": [
    "# Examples\n",
    "\n",
    "a = 10\n",
    "\n",
    "a += 5\n",
    "\n",
    "print(a)\n",
    "\n",
    "a -= 8\n",
    "\n",
    "print(a)\n",
    "\n",
    "a /= 2\n",
    "\n",
    "print(a)\n",
    "\n",
    "a *= 4\n",
    "\n",
    "print(a)"
   ]
  },
  {
   "cell_type": "markdown",
   "metadata": {},
   "source": [
    "# Special Operators\n",
    "\n",
    "## Identity Operators\n",
    "\n",
    "- <b>is</b> and <b>is not</b> are the identity operators\n",
    "- They are used to check if two variables are located at the same memory location. "
   ]
  },
  {
   "cell_type": "code",
   "execution_count": null,
   "metadata": {},
   "outputs": [],
   "source": []
  },
  {
   "cell_type": "markdown",
   "metadata": {},
   "source": [
    "# Important note\n",
    "\n",
    "- Let me explain you the things.\n",
    "- a = 500\n",
    "- b = 500\n",
    "- print(id(a)==id(b))  # This statement is checking if the memory locations of 'a' and 'b' are same. Here it is comparing the values of id(a) ad id(b)\n",
    "- print(id(a) is id(b)) # This statement is checking if both id(a) and id(b) are of same type. Here it is not comparing the values of id(a) and id(b), but it is checking if both id(a) and id(b) are of same type.\n",
    "- s1 = \"Satish\"\n",
    "- s2 = \"Satish\"\n",
    "- print(id(s1) == id(s2))  #It is checking if both the ids are same or not. In strings as long we see single strings which are same and do not contain spaces, then they both point to same object. Here s1 and s2 point to same object."
   ]
  },
  {
   "cell_type": "code",
   "execution_count": 29,
   "metadata": {},
   "outputs": [
    {
     "name": "stdout",
     "output_type": "stream",
     "text": [
      "True\n",
      "False\n",
      "False\n",
      "True\n"
     ]
    }
   ],
   "source": [
    "# Example\n",
    "\n",
    "a = 5\n",
    "b = 5             # 5 is created once and both a and b are pointing to the same memory location for 5.\n",
    "\n",
    "print(a is b)\n",
    "\n",
    "print(a is not b)\n",
    "\n",
    "a = 5\n",
    "b = 7             # 5 is created once and both a and b are pointing to the same memory location for 5.\n",
    "\n",
    "print(a is b)\n",
    "\n",
    "print(a is not b)"
   ]
  },
  {
   "cell_type": "code",
   "execution_count": 32,
   "metadata": {},
   "outputs": [
    {
     "name": "stdout",
     "output_type": "stream",
     "text": [
      "False\n",
      "True\n"
     ]
    }
   ],
   "source": [
    "# The above is true only for numbers or simple variables like int, float or strings , not for complex variables like lists, Tuples, sets, dictionaries etc.\n",
    "\n",
    "a = [1,2,3]\n",
    "b = [1,2,3]\n",
    "\n",
    "\n",
    "print(a is b)\n",
    "\n",
    "print(a is not b)\n"
   ]
  },
  {
   "cell_type": "markdown",
   "metadata": {},
   "source": [
    "# In and not In Operators\n",
    "\n",
    "- They are membership operators in Python.\n",
    "- They are used to test whether a value or variable is found inside a sequence ( String, List, Tuple, Dictionary, set )"
   ]
  },
  {
   "cell_type": "code",
   "execution_count": 33,
   "metadata": {},
   "outputs": [
    {
     "name": "stdout",
     "output_type": "stream",
     "text": [
      "True\n",
      "False\n",
      "False\n",
      "True\n"
     ]
    }
   ],
   "source": [
    "# Example\n",
    "\n",
    "a = [1,2,3,4]\n",
    "\n",
    "print(1 in a)\n",
    "\n",
    "print(5 in a)\n",
    "\n",
    "print(3 not in a)\n",
    "\n",
    "print (7 not in a)"
   ]
  },
  {
   "cell_type": "markdown",
   "metadata": {},
   "source": [
    "- For dictionaries you can check only in the keys, not in the values"
   ]
  },
  {
   "cell_type": "code",
   "execution_count": 35,
   "metadata": {},
   "outputs": [
    {
     "name": "stdout",
     "output_type": "stream",
     "text": [
      "True\n",
      "False\n",
      "False\n",
      "False\n"
     ]
    }
   ],
   "source": [
    "d = {1: \"day\" , 2: \"night\"}\n",
    "\n",
    "print(1 in d)\n",
    "\n",
    "print(3 in d)\n",
    "\n",
    "print(2 not in d)\n",
    "\n",
    "print(\"day\" in d)   # Will give result as False as you can check only for keys not for values"
   ]
  },
  {
   "cell_type": "code",
   "execution_count": null,
   "metadata": {},
   "outputs": [],
   "source": []
  }
 ],
 "metadata": {
  "kernelspec": {
   "display_name": "Python 3",
   "language": "python",
   "name": "python3"
  },
  "language_info": {
   "codemirror_mode": {
    "name": "ipython",
    "version": 3
   },
   "file_extension": ".py",
   "mimetype": "text/x-python",
   "name": "python",
   "nbconvert_exporter": "python",
   "pygments_lexer": "ipython3",
   "version": "3.7.6"
  }
 },
 "nbformat": 4,
 "nbformat_minor": 4
}
