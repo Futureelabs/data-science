{
 "cells": [
  {
   "cell_type": "markdown",
   "metadata": {},
   "source": [
    "# Functions\n",
    "\n",
    "- a group of replated code statements that perform a specific task\n",
    "- functions help us to break the program into smaller and modular chunks\n",
    "-  As our program becomes larger and larger, functions makes it more organised and managable.\n",
    "- It avoid repetition and makes program reusable\n",
    "\n",
    "## Syntax\n",
    "\n",
    " - def function_name(parameters):\n",
    " \n",
    "     -- Doc String \n",
    "     --function statements\n",
    "   return statement\n",
    " \n",
    " - parameters are optional\n",
    " - Doc string descirbes what the fuction does. This is optional.\n",
    " \n",
    " - return statement is used to returm a value from the function. This is optional.\n",
    " \n",
    " \n",
    " "
   ]
  },
  {
   "cell_type": "code",
   "execution_count": 7,
   "metadata": {},
   "outputs": [
    {
     "name": "stdout",
     "output_type": "stream",
     "text": [
      "Please enter your name : Sanaya\n",
      "Hello Sanaya\n",
      "Welcome to the ML club.\n"
     ]
    }
   ],
   "source": [
    "# Example\n",
    "\n",
    "# write a function to write the name entered by the user along with a greeting\n",
    "\n",
    "\n",
    "\n",
    "name = str(input(\"Please enter your name : \"))\n",
    "\n",
    "def display_name(name):\n",
    "    \n",
    "    '''\n",
    "     This function will display a gtreeting to the user along with his name once he has entered it.\n",
    "    '''\n",
    "    print(\"Hello {}\".format(name))\n",
    "    print(\"Welcome to the ML club.\")\n",
    "\n",
    "display_name(name)   ## this is a function call statement. We can call a funtion inside a program to reuse it.\n"
   ]
  },
  {
   "cell_type": "code",
   "execution_count": 5,
   "metadata": {},
   "outputs": [
    {
     "name": "stdout",
     "output_type": "stream",
     "text": [
      "Hello Parveen Hooda\n",
      "Welcome to the ML club.\n"
     ]
    }
   ],
   "source": [
    "display_name(\"Parveen Hooda\")"
   ]
  },
  {
   "cell_type": "markdown",
   "metadata": {},
   "source": [
    "## Printing a Doc string for a function\n",
    "\n",
    "- use print(fucntion_name.<b>__doc__</b>)"
   ]
  },
  {
   "cell_type": "code",
   "execution_count": 8,
   "metadata": {},
   "outputs": [
    {
     "name": "stdout",
     "output_type": "stream",
     "text": [
      "\n",
      "     This function will display a gtreeting to the user along with his name once he has entered it.\n",
      "    \n"
     ]
    }
   ],
   "source": [
    "print(display_name.__doc__)"
   ]
  },
  {
   "cell_type": "markdown",
   "metadata": {},
   "source": [
    "## Returning a Value from a function \n",
    "\n",
    "- the return statement is used to exit a funtion and go back to the place from where it was called.\n",
    "- the return statement can contain an expression which gets evaluated before the value is returned.\n",
    "- if there is no expression present to be evaluted inside the return statement or there is no return statement itself then the\n",
    "- function will return the None Object."
   ]
  },
  {
   "cell_type": "code",
   "execution_count": 11,
   "metadata": {},
   "outputs": [
    {
     "name": "stdout",
     "output_type": "stream",
     "text": [
      "the sum of all the elements of the list is 286\n"
     ]
    }
   ],
   "source": [
    "# Example\n",
    "\n",
    "# Write a function to return the sum of all the elements of a given list\n",
    "\n",
    "list = [1,3,5,6,76,7,8,35,78,67]\n",
    "\n",
    "def display_sum(list):\n",
    "    \n",
    "    '''\n",
    "    This function returns the sum of all the elements in a given list\n",
    "    '''\n",
    "    sum = 0\n",
    "    \n",
    "    for num in list:\n",
    "        sum += num\n",
    "        \n",
    "    return sum\n",
    " \n",
    "\n",
    "\n",
    "total =    display_sum(list)\n",
    "\n",
    "print(\"the sum of all the elements of the list is {}\".format(total))\n",
    "    \n",
    "    \n",
    " "
   ]
  },
  {
   "cell_type": "markdown",
   "metadata": {},
   "source": [
    "# Scope and life time of a variable\n",
    "\n",
    "- <b>Scope</b> of a variable is the portion of the program where the variable is recognised.\n",
    "- Variables defined inside a fuction are not visible from the outside, therefore they are local in scope.\n",
    "- <b>Life Time</b> of a variable is the time period throughout which the variable is stored in the memory.\n",
    "- the life time of a variable inside a function is only till the time the fuction is getting executed.\n",
    "- variables are destroyed once the program flow returns from the fucntion.\n"
   ]
  },
  {
   "cell_type": "code",
   "execution_count": 13,
   "metadata": {},
   "outputs": [
    {
     "name": "stdout",
     "output_type": "stream",
     "text": [
      "I am a local variable and can be seen only inside the function.\n",
      "I am a global variable and can be seen both within and outside a fuction.\n",
      "I am a global variable and can be seen both within and outside a fuction.\n"
     ]
    },
    {
     "ename": "NameError",
     "evalue": "name 'local_var' is not defined",
     "output_type": "error",
     "traceback": [
      "\u001b[1;31m---------------------------------------------------------------------------\u001b[0m",
      "\u001b[1;31mNameError\u001b[0m                                 Traceback (most recent call last)",
      "\u001b[1;32m<ipython-input-13-e70f95ae16f1>\u001b[0m in \u001b[0;36m<module>\u001b[1;34m\u001b[0m\n\u001b[0;32m     18\u001b[0m \u001b[0mprint\u001b[0m\u001b[1;33m(\u001b[0m\u001b[0mglobal_var\u001b[0m\u001b[1;33m)\u001b[0m   \u001b[1;31m#global variable is accessible throughout the program.\u001b[0m\u001b[1;33m\u001b[0m\u001b[1;33m\u001b[0m\u001b[0m\n\u001b[0;32m     19\u001b[0m \u001b[1;33m\u001b[0m\u001b[0m\n\u001b[1;32m---> 20\u001b[1;33m \u001b[0mprint\u001b[0m\u001b[1;33m(\u001b[0m\u001b[0mlocal_var\u001b[0m\u001b[1;33m)\u001b[0m    \u001b[1;31m# local variable is accessible only from the inside of the function and hence it will through and error.\u001b[0m\u001b[1;33m\u001b[0m\u001b[1;33m\u001b[0m\u001b[0m\n\u001b[0m\u001b[0;32m     21\u001b[0m \u001b[1;33m\u001b[0m\u001b[0m\n\u001b[0;32m     22\u001b[0m \u001b[1;33m\u001b[0m\u001b[0m\n",
      "\u001b[1;31mNameError\u001b[0m: name 'local_var' is not defined"
     ]
    }
   ],
   "source": [
    "# Example\n",
    "\n",
    "global_var = \"I am a global variable and can be seen both within and outside a fuction.\"\n",
    "\n",
    "def var_scope():\n",
    "    \n",
    "    local_var = \"I am a local variable and can be seen only inside the function.\"\n",
    "    \n",
    "    print(local_var)  # as the local_var is defined inside the function, function have access for it.\n",
    "    \n",
    "    print(global_var) # as the gloablvariable is visible both inside and outside the function, the function can access it.\n",
    "\n",
    "\n",
    "# call the function var_scope\n",
    "\n",
    "var_scope()\n",
    "\n",
    "print(global_var)   #global variable is accessible throughout the program. \n",
    "\n",
    "print(local_var)    # local variable is accessible only from the inside of the function and hence it will through and error.\n",
    "  \n",
    "\n",
    "\n",
    "    "
   ]
  },
  {
   "cell_type": "markdown",
   "metadata": {},
   "source": [
    "# program to calculate the HCF of two numbers\n"
   ]
  },
  {
   "cell_type": "code",
   "execution_count": 19,
   "metadata": {},
   "outputs": [
    {
     "name": "stdout",
     "output_type": "stream",
     "text": [
      "Please enter the first number :53\n",
      "Please enter the second number :9\n",
      "The HCF of the given two numbers is : 1\n"
     ]
    }
   ],
   "source": [
    "# Get the numbers from the user for which he wants it calculate the HCF\n",
    "\n",
    "num_01 = int(input(\"Please enter the first number :\"))\n",
    "num_02 = int(input(\"Please enter the second number :\"))\n",
    "\n",
    "\n",
    "\n",
    "def Calculate_HCF(num_01, num_02):\n",
    "    \n",
    "    HCF = 1\n",
    "    \n",
    "    if num_01 < num_02:\n",
    "        smaller_num = num_01\n",
    "    else:\n",
    "        smaller_num = num_02\n",
    "        \n",
    "    for i in range(1,smaller_num):\n",
    "        if (num_01 % i == 0) and (num_02 % 1 == 0):\n",
    "            HCF = i\n",
    "    return HCF\n",
    "\n",
    "print(\"The HCF of the given two numbers is : {}\".format(Calculate_HCF(num_01,num_02)))\n",
    "    "
   ]
  },
  {
   "cell_type": "code",
   "execution_count": null,
   "metadata": {},
   "outputs": [],
   "source": []
  }
 ],
 "metadata": {
  "kernelspec": {
   "display_name": "Python 3",
   "language": "python",
   "name": "python3"
  },
  "language_info": {
   "codemirror_mode": {
    "name": "ipython",
    "version": 3
   },
   "file_extension": ".py",
   "mimetype": "text/x-python",
   "name": "python",
   "nbconvert_exporter": "python",
   "pygments_lexer": "ipython3",
   "version": "3.7.6"
  }
 },
 "nbformat": 4,
 "nbformat_minor": 4
}
